{
 "cells": [
  {
   "cell_type": "code",
   "execution_count": 1,
   "id": "06f87ad7-e582-47d9-815d-1ed89c45bd42",
   "metadata": {},
   "outputs": [],
   "source": [
    "import numpy as np\n",
    "import pandas as pd\n",
    "import plotly.graph_objects as go\n",
    "import sys\n",
    "\n",
    "from datetime import datetime"
   ]
  },
  {
   "cell_type": "code",
   "execution_count": 2,
   "id": "587fe47c-14c7-402b-8a58-5a8c1d505047",
   "metadata": {},
   "outputs": [],
   "source": [
    "f = lambda x: 20 + np.e - 20 * np.exp(-0.2 * np.sqrt(np.mean(x ** 2, axis=0))) - np.exp(np.mean(np.cos(2 * np.pi * x), axis=0))"
   ]
  },
  {
   "cell_type": "code",
   "execution_count": 3,
   "id": "8a4be527-5157-40be-b233-8764836c3207",
   "metadata": {},
   "outputs": [],
   "source": [
    "class EvolutionStrategy:\n",
    "    \n",
    "    def __init__(self, fitness_func, dim=2, pop_size=100):\n",
    "        self.pop_size = pop_size\n",
    "        self.dim = dim\n",
    "        self.parents_size = self.pop_size // 2\n",
    "        self.sigma_min = 0.00001\n",
    "        self.tau1 = 1 / np.sqrt(2 * self.dim)\n",
    "        self.tau2 = 1 / np.sqrt(2 * np.sqrt(self.dim))\n",
    "        self.fitness = lambda x: -fitness_func(x[:self.dim])\n",
    "        \n",
    "        # Initializing population\n",
    "        genes = np.random.uniform(-30., 30., size=(self.dim, pop_size))\n",
    "        strat = np.random.uniform(10., 1., size=(self.dim, pop_size))\n",
    "        self.pop = np.r_[genes, strat]\n",
    "        \n",
    "    def parents_selection(self):\n",
    "        parents_indexes = np.random.choice(self.pop_size, self.parents_size, replace=False)\n",
    "        parents = self.pop[:, parents_indexes]\n",
    "        return parents\n",
    "    \n",
    "    def crossover(self, parents, lmbd=200):\n",
    "        children = np.empty((2*self.dim, lmbd))\n",
    "        for i in range(lmbd):\n",
    "            parents_indexes = np.random.choice(parents.shape[1], 2, replace=False)\n",
    "            genes = parents[:self.dim, parents_indexes]\n",
    "            strat = parents[self.dim:, parents_indexes]\n",
    "            \n",
    "            # Discrete crossover for individual / Intermediate crossover for strategies\n",
    "            # For individual\n",
    "            crossover_indexes = np.random.choice(2, self.dim)\n",
    "            child_genes = np.choose(crossover_indexes, genes.T).reshape(-1, 1)\n",
    "            \n",
    "            # For strategy\n",
    "            child_strats = (strat[:, [0]] + strat[:, [1]]) / 2\n",
    "            \n",
    "            children[:, [i]] = np.r_[child_genes, child_strats]\n",
    "            \n",
    "        return children\n",
    "    \n",
    "    def mutation(self, children):\n",
    "        genes = children[:self.dim, :]\n",
    "        strat = children[self.dim:, :]\n",
    "        \n",
    "        # Uncorrelated mutation\n",
    "        new_strat = strat * np.exp(self.tau1 * np.random.normal(size=(strat.shape[1]))) * np.exp(self.tau2 * np.random.normal(size=strat.shape))\n",
    "        new_strat = np.where(new_strat > self.sigma_min, new_strat, self.sigma_min)\n",
    "        new_genes = genes + new_strat * np.random.normal(size=genes.shape)\n",
    "        \n",
    "        return np.r_[new_genes, new_strat]\n",
    "        \n",
    "    def run(self, n_gens=10):\n",
    "        self.populations = [self.pop]\n",
    "        for gen in range(int(n_gens)):\n",
    "            parents = self.parents_selection()\n",
    "            children = self.crossover(parents)\n",
    "            mutant_children = self.mutation(children)\n",
    "            gen_fitness = self.fitness(mutant_children[:self.dim, :])\n",
    "            \n",
    "            best_indices = np.argsort(gen_fitness)\n",
    "            best_fitnesses = gen_fitness[best_indices][-self.pop_size:]\n",
    "            self.pop = mutant_children[:, best_indices[-self.pop_size:]]\n",
    "            \n",
    "            self.populations.append(self.pop)\n",
    "            sys.stdout.write(\"\\rGeneration %i\" % (gen+1))\n",
    "            sys.stdout.flush()\n",
    "        print(f'\\ngen {gen+1}, best fitnesses: {best_fitnesses[-5:]}')"
   ]
  },
  {
   "cell_type": "code",
   "execution_count": 4,
   "id": "66854140-bc03-462b-a155-612bc5abe18c",
   "metadata": {},
   "outputs": [
    {
     "name": "stdout",
     "output_type": "stream",
     "text": [
      "Generation 1000\n",
      "gen 1000, best fitnesses: [-8.86432454e-05 -8.78815549e-05 -8.62866943e-05 -8.37506197e-05\n",
      " -8.23223504e-05]\n",
      "Exec Time: 0:00:20.223965\n"
     ]
    }
   ],
   "source": [
    "es = EvolutionStrategy(fitness_func=f, dim=30, pop_size=30)\n",
    "\n",
    "start = datetime.now()\n",
    "es.run(n_gens=1000)\n",
    "print(f'Exec Time: {datetime.now() - start}')"
   ]
  },
  {
   "cell_type": "code",
   "execution_count": 5,
   "id": "344ad466-b9f9-49bb-a517-a1b11e896458",
   "metadata": {},
   "outputs": [],
   "source": [
    "# Gráfico 3D para problema de duas dimensões\n",
    "\n",
    "# populations = es.populations\n",
    "\n",
    "# x = np.linspace(-30., 30., num=1000)\n",
    "# y = np.linspace(-30., 30., num=1000)\n",
    "# coords = np.array(np.meshgrid(x, y))\n",
    "\n",
    "# fig = go.Figure(\n",
    "#     data=[go.Surface(x=x, y=y, z=f(coords)), go.Surface(x=x, y=y, z=f(coords))],\n",
    "#     layout=go.Layout(\n",
    "#         title_text=\"Ackley Function\", hovermode=\"closest\",\n",
    "#         updatemenus=[dict(type=\"buttons\", buttons=[dict(label=\"Play\", method=\"animate\", args=[None])])]),\n",
    "#     frames=[\n",
    "#         go.Frame(data=[\n",
    "#             go.Scatter3d(x=pop[0, :], y=pop[1, :], z=f(pop[:2, :]), mode='markers', marker={'color': 'blue'})\n",
    "#         ]) for pop in populations\n",
    "#     ]\n",
    "# )\n",
    "\n",
    "# fig.update_layout(autosize=False, width=1000, height=1000, margin=dict(l=65, r=50, b=65, t=90))\n",
    "\n",
    "# fig.show()"
   ]
  },
  {
   "cell_type": "code",
   "execution_count": 6,
   "id": "4168808d-970c-4d4f-a7ac-64b1ea8048d4",
   "metadata": {},
   "outputs": [
    {
     "data": {
      "text/plain": [
       "array([1.40158082e-05, 2.02738770e-05, 1.00000000e-05, 1.23431642e-05,\n",
       "       1.00000000e-05, 1.10725354e-05, 1.00572197e-05, 1.29023847e-05,\n",
       "       1.50463687e-05, 1.15323995e-05, 1.00000000e-05, 1.00000000e-05,\n",
       "       1.62381503e-05, 1.23880480e-05, 1.00000000e-05, 1.11483849e-05,\n",
       "       1.05581584e-05, 1.53885867e-05, 1.18206583e-05, 1.00000000e-05,\n",
       "       1.00000000e-05, 1.25753089e-05, 2.17061628e-05, 1.00000000e-05,\n",
       "       1.00000000e-05, 1.00000000e-05, 1.00000000e-05, 1.17440954e-05,\n",
       "       1.00000000e-05, 1.44478634e-05])"
      ]
     },
     "execution_count": 6,
     "metadata": {},
     "output_type": "execute_result"
    }
   ],
   "source": [
    "populations = es.populations\n",
    "\n",
    "# Genes\n",
    "populations[-1][30:, :][1]"
   ]
  },
  {
   "cell_type": "code",
   "execution_count": 7,
   "id": "e913791b-c0d5-4536-b437-beece785e597",
   "metadata": {},
   "outputs": [
    {
     "data": {
      "text/plain": [
       "array([ 29.24517661,   0.27408312,   8.00642843, -12.66522836,\n",
       "        23.40487268,  -2.93205471,  28.90441081,  19.58566732,\n",
       "        13.06296968,   8.58751476, -24.15964954,  24.06921958,\n",
       "       -19.85042825,  25.83027272,  -9.43524979, -10.78663233,\n",
       "        26.12983737, -26.16890871,  26.50016992,  -2.10085172,\n",
       "       -19.98834919,   3.5021078 , -10.80869601,  28.50280168,\n",
       "         0.07570573, -10.00668093,  11.14879412, -14.19595114,\n",
       "         4.33466205,  -1.31827987])"
      ]
     },
     "execution_count": 8,
     "metadata": {},
     "output_type": "execute_result"
    }
   ],
   "source": [
    "# Strategies\n",
    "populations[-1][:30, :][1]"
   ]
  },
  {
   "cell_type": "code",
   "execution_count": null,
   "id": "247cf4a3-b638-4318-932f-d3693e1fe299",
   "metadata": {},
   "outputs": [],
   "source": []
  }
 ],
 "metadata": {
  "kernelspec": {
   "display_name": "Python 3 (ipykernel)",
   "language": "python",
   "name": "python3"
  },
  "language_info": {
   "codemirror_mode": {
    "name": "ipython",
    "version": 3
   },
   "file_extension": ".py",
   "mimetype": "text/x-python",
   "name": "python",
   "nbconvert_exporter": "python",
   "pygments_lexer": "ipython3",
   "version": "3.8.10"
  }
 },
 "nbformat": 4,
 "nbformat_minor": 5
}
