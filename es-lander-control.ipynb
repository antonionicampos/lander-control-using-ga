{
 "cells": [
  {
   "cell_type": "code",
   "execution_count": 13,
   "id": "e0f397b6-eda3-452f-88bc-8d4930a62bdf",
   "metadata": {},
   "outputs": [],
   "source": [
    "import gym\n",
    "import imageio\n",
    "import matplotlib.pyplot as plt\n",
    "import numpy as np\n",
    "import os\n",
    "import sys\n",
    "\n",
    "from algorithms import EvolutionStrategy\n",
    "from datetime import datetime\n",
    "from policies import NN\n",
    "\n",
    "\n",
    "np.set_printoptions(precision=5, suppress=True)"
   ]
  },
  {
   "cell_type": "code",
   "execution_count": null,
   "id": "bb81e226-5063-49fd-821e-926ca1988197",
   "metadata": {},
   "outputs": [],
   "source": [
    "es = EvolutionStrategy()\n",
    "n_gens = 300\n",
    "\n",
    "start = datetime.now()\n",
    "pop, best_fitness_per_gen, avg_fitness_per_gen = es.run(n_gens=n_gens)\n",
    "print(f'Exec Time: {datetime.now() - start}')"
   ]
  },
  {
   "cell_type": "code",
   "execution_count": null,
   "id": "f10b9ef4-d9c6-4f43-9bd3-d611f7ef956a",
   "metadata": {},
   "outputs": [],
   "source": [
    "fig, ax = plt.subplots(figsize=(8, 5))\n",
    "ax.plot(np.arange(n_gens), best_fitness_per_gen, label='best fitness')\n",
    "ax.plot(np.arange(n_gens), avg_fitness_per_gen, label='avg fitness')\n",
    "ax.set_ylabel('Best Fitness')\n",
    "ax.set_xlabel('Generation')\n",
    "ax.grid()\n",
    "plt.show()"
   ]
  },
  {
   "cell_type": "code",
   "execution_count": 14,
   "id": "50bc2ebe-2ae0-4e4d-bebf-63aa9dca8bff",
   "metadata": {},
   "outputs": [],
   "source": [
    "results = np.load('results_gen500.npz')\n",
    "pop = results['pop']"
   ]
  },
  {
   "cell_type": "code",
   "execution_count": 29,
   "id": "da6fddb9-e808-40b3-9ad6-79e2b0dd1db8",
   "metadata": {},
   "outputs": [
    {
     "name": "stdout",
     "output_type": "stream",
     "text": [
      "-221.97489416742354\n"
     ]
    }
   ],
   "source": [
    "env = gym.make(\"LunarLander-v2\")\n",
    "\n",
    "observation, info = env.reset(seed=np.random.randint(0, 2**16-1), return_info=True)\n",
    "\n",
    "input_dim = env.observation_space.shape[0]\n",
    "output_dim = env.action_space.n\n",
    "\n",
    "policy = NN(input_dim=input_dim, output_dim=output_dim, hidden_units=128)\n",
    "dim = policy.params_size()\n",
    "\n",
    "# frames = []\n",
    "policy.set_weights(pop[:dim, 0])\n",
    "done = False\n",
    "total_reward = 0.0\n",
    "while not done:\n",
    "    env.render()\n",
    "    # frames.append(env.render(mode='rgb_array'))\n",
    "    action = policy(observation)\n",
    "    observation, reward, done, info = env.step(action)\n",
    "    total_reward += reward\n",
    "\n",
    "    if done:\n",
    "        print(total_reward)\n",
    "        observation, info = env.reset(return_info=True)\n",
    "\n",
    "env.close()\n",
    "# imageio.mimsave(os.path.join('.', 'movie.gif'), frames, format='GIF', fps=60)"
   ]
  },
  {
   "cell_type": "code",
   "execution_count": 19,
   "id": "265eefc3-2228-4b66-b856-3bee03ad4ee6",
   "metadata": {},
   "outputs": [
    {
     "data": {
      "text/plain": [
       "array([ 7.04379, 18.26462, 20.66746, ..., 10.52143,  4.38577,  4.20133])"
      ]
     },
     "execution_count": 19,
     "metadata": {},
     "output_type": "execute_result"
    }
   ],
   "source": [
    "pop[dim:, 1]"
   ]
  },
  {
   "cell_type": "code",
   "execution_count": null,
   "id": "ba9f74a8",
   "metadata": {},
   "outputs": [],
   "source": []
  }
 ],
 "metadata": {
  "interpreter": {
   "hash": "3befdaebfffc0e3182bacec8365ccac2f8d249115e522f0fe0c5655fc5b72809"
  },
  "kernelspec": {
   "display_name": "Python 3.10.0 ('python3')",
   "language": "python",
   "name": "python3"
  },
  "language_info": {
   "codemirror_mode": {
    "name": "ipython",
    "version": 3
   },
   "file_extension": ".py",
   "mimetype": "text/x-python",
   "name": "python",
   "nbconvert_exporter": "python",
   "pygments_lexer": "ipython3",
   "version": "3.10.0"
  }
 },
 "nbformat": 4,
 "nbformat_minor": 5
}
