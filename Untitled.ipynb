{
 "cells": [
  {
   "cell_type": "code",
   "execution_count": 1,
   "id": "e0f397b6-eda3-452f-88bc-8d4930a62bdf",
   "metadata": {},
   "outputs": [],
   "source": [
    "import imageio\n",
    "import gym\n",
    "import matplotlib.pyplot as plt\n",
    "import numpy as np\n",
    "import os\n",
    "import sys\n",
    "\n",
    "from datetime import datetime\n",
    "from policies import NN\n",
    "\n",
    "\n",
    "np.set_printoptions(precision=5, suppress=True)"
   ]
  },
  {
   "cell_type": "code",
   "execution_count": 57,
   "id": "c42fd34d-4784-42ca-8cf1-d5e25f643081",
   "metadata": {},
   "outputs": [],
   "source": [
    "class EvolutionStrategy:\n",
    "    \n",
    "    def __init__(self, pop_size=50):\n",
    "        # Initializing gym environment\n",
    "        self.env = gym.make(\"LunarLander-v2\")\n",
    "\n",
    "        self.input_dim = self.env.observation_space.shape[0]\n",
    "        self.output_dim = self.env.action_space.n\n",
    "        self.hidden_units = 16\n",
    "\n",
    "        self.policy = NN(input_dim=self.input_dim, output_dim=self.output_dim, hidden_units=self.hidden_units)\n",
    "        self.dim = self.policy.params_size()\n",
    "        \n",
    "        self.pop_size = pop_size\n",
    "        self.lambda_ = 7 * self.pop_size    # High Selective Pressure \n",
    "        self.parents_size = self.pop_size // 2\n",
    "        self.tau1 = 1 / np.sqrt(2 * self.dim)\n",
    "        self.tau2 = 1 / np.sqrt(2 * np.sqrt(self.dim))\n",
    "        \n",
    "        # Initializing population\n",
    "        weights1 = np.random.normal(0., 1., size=(self.hidden_units*self.input_dim, self.pop_size))\n",
    "        weights2 = np.random.normal(0., 1, size=(self.output_dim*self.hidden_units, self.pop_size))\n",
    "        bias1 = np.zeros((self.hidden_units, self.pop_size))\n",
    "        bias2 = np.zeros((self.output_dim, self.pop_size))\n",
    "        genes = np.r_[weights1, weights2, bias1, bias2]\n",
    "        \n",
    "        strat = np.random.uniform(15., 10., size=(self.dim, self.pop_size))\n",
    "        self.pop = np.r_[genes, strat]\n",
    "        \n",
    "    def parents_selection(self):\n",
    "        parents_indexes = np.random.choice(self.pop_size, self.parents_size, replace=False)\n",
    "        parents = self.pop[:, parents_indexes]\n",
    "        return parents\n",
    "    \n",
    "    def crossover(self, parents):\n",
    "        children = np.empty((2*self.dim, self.lambda_))\n",
    "        for i in range(self.lambda_):\n",
    "            parents_indexes = np.random.choice(parents.shape[1], 2, replace=False)\n",
    "            genes = parents[:self.dim, parents_indexes]\n",
    "            strat = parents[self.dim:, parents_indexes]\n",
    "            \n",
    "            # Discrete crossover for individual / Intermediate crossover for strategies\n",
    "            # For individual\n",
    "            crossover_indexes = np.random.choice(2, self.dim)\n",
    "            child_genes = np.choose(crossover_indexes, genes.T).reshape(-1, 1)\n",
    "            \n",
    "            # For strategy\n",
    "            child_strats = (strat[:, [0]] + strat[:, [1]]) / 2\n",
    "            \n",
    "            children[:, [i]] = np.r_[child_genes, child_strats]\n",
    "            \n",
    "        return children\n",
    "    \n",
    "    def mutation(self, children):\n",
    "        genes = children[:self.dim, :]\n",
    "        strat = children[self.dim:, :]\n",
    "        \n",
    "        # Uncorrelated mutation\n",
    "        new_strat = strat * np.exp(self.tau1 * np.random.normal(size=(strat.shape[1]))) * np.exp(self.tau2 * np.random.normal(size=strat.shape))\n",
    "        new_strat = np.where(new_strat > self.sigma_min, new_strat, self.sigma_min)\n",
    "        new_genes = genes + new_strat * np.random.normal(size=genes.shape)\n",
    "        \n",
    "        return np.r_[new_genes, new_strat]\n",
    "\n",
    "    def fitness(self, population, gif={'create': False}):\n",
    "        episodes = 1\n",
    "        fitnesses = np.empty((population.shape[1]))\n",
    "        observation, _ = self.env.reset(return_info=True)\n",
    "        \n",
    "        for i, ind in enumerate(np.arange(population.shape[1])):\n",
    "            total_reward = 0.0\n",
    "            \n",
    "            # Set policy weights (genes)\n",
    "            genes = population[:self.dim, i]\n",
    "            self.policy.set_weights(genes)\n",
    "            \n",
    "            # Episodes\n",
    "            for episode in range(episodes):\n",
    "                if gif['create']: frames = []\n",
    "                done = False\n",
    "                while not done:\n",
    "                    if gif['create']:\n",
    "                        # self.env.render()\n",
    "                        frames.append(self.env.render(mode='rgb_array'))\n",
    "                    action = self.policy(observation)\n",
    "                    observation, reward, done, _ = self.env.step(action)\n",
    "                    total_reward += reward\n",
    "\n",
    "                    if done: observation, _ = self.env.reset(return_info=True)\n",
    "\n",
    "                if gif['create']:\n",
    "                    imageio.mimsave(os.path.join('.', f'gen{gif[\"gen\"]}_episode{episode}.gif'), \n",
    "                                    frames, \n",
    "                                    format='GIF', \n",
    "                                    fps=60)\n",
    "            fitnesses[i] = total_reward / episodes\n",
    "        return fitnesses\n",
    "        \n",
    "    def run(self, n_gens=10, sigma_min=0.00001):\n",
    "        best_fitness_per_gen = np.empty(n_gens)\n",
    "        avg_fitness_per_gen = np.empty(n_gens)\n",
    "        \n",
    "        self.sigma_min = sigma_min\n",
    "        self.fitness(self.pop[:, [0]], gif={'create': True, 'gen': 0})\n",
    "        \n",
    "        for gen in range(int(n_gens)):\n",
    "            parents = self.parents_selection()\n",
    "            children = self.crossover(parents)\n",
    "            mutant_children = self.mutation(children)\n",
    "\n",
    "            gen_fitness = self.fitness(mutant_children)\n",
    "            \n",
    "            best_indices = np.argsort(gen_fitness)[-self.pop_size:]\n",
    "            \n",
    "            best_fitnesses = gen_fitness[best_indices][-self.pop_size:]\n",
    "            best_fitness_per_gen[gen] = best_fitnesses[-1]\n",
    "            avg_fitness_per_gen[gen] = np.mean(best_fitnesses)\n",
    "            \n",
    "            self.pop = mutant_children[:, best_indices]\n",
    "            \n",
    "            sys.stdout.write(\"\\rGeneration %i\" % (gen+1))\n",
    "            sys.stdout.flush()\n",
    "            \n",
    "        print(f'\\ngen {gen+1}, best fitnesses: {best_fitnesses[-5:]}')\n",
    "        self.env.close()\n",
    "        return self.pop, best_fitness_per_gen, avg_fitness_per_gen"
   ]
  },
  {
   "cell_type": "code",
   "execution_count": 60,
   "id": "bb81e226-5063-49fd-821e-926ca1988197",
   "metadata": {},
   "outputs": [
    {
     "name": "stdout",
     "output_type": "stream",
     "text": [
      "Generation 100\n",
      "gen 100, best fitnesses: [ 37.64915  60.24472 102.47335 178.35565 270.76899]\n",
      "Exec Time: 0:08:51.960891\n"
     ]
    }
   ],
   "source": [
    "es = EvolutionStrategy()\n",
    "start = datetime.now()\n",
    "pop, best_fitness_per_gen, avg_fitness_per_gen = es.run(n_gens=100)\n",
    "print(f'Exec Time: {datetime.now() - start}')"
   ]
  },
  {
   "cell_type": "code",
   "execution_count": 61,
   "id": "f10b9ef4-d9c6-4f43-9bd3-d611f7ef956a",
   "metadata": {},
   "outputs": [
    {
     "data": {
      "image/png": "[encoded data removed]",
      "text/plain": [
       "<Figure size 576x360 with 1 Axes>"
      ]
     },
     "metadata": {
      "needs_background": "light"
     },
     "output_type": "display_data"
    }
   ],
   "source": [
    "fig, ax = plt.subplots(figsize=(8, 5))\n",
    "ax.plot(np.arange(100), best_fitness_per_gen, np.arange(100), avg_fitness_per_gen)\n",
    "ax.set_ylabel('Best Fitness')\n",
    "ax.set_xlabel('Generation')\n",
    "ax.grid()\n",
    "plt.show()"
   ]
  },
  {
   "cell_type": "code",
   "execution_count": 87,
   "id": "da6fddb9-e808-40b3-9ad6-79e2b0dd1db8",
   "metadata": {},
   "outputs": [
    {
     "name": "stdout",
     "output_type": "stream",
     "text": [
      "223.90366787635358\n"
     ]
    }
   ],
   "source": [
    "env = gym.make(\"LunarLander-v2\")\n",
    "\n",
    "observation, info = env.reset(return_info=True)\n",
    "\n",
    "input_dim = env.observation_space.shape[0]\n",
    "output_dim = env.action_space.n\n",
    "\n",
    "policy = NN(input_dim=input_dim, output_dim=output_dim, hidden_units=16)\n",
    "dim = policy.params_size()\n",
    "policy.set_weights(pop[:dim, -3])\n",
    "\n",
    "frames = []\n",
    "\n",
    "done = False\n",
    "total_reward = 0.0\n",
    "while not done:\n",
    "    env.render()\n",
    "    frames.append(env.render(mode='rgb_array'))\n",
    "    action = policy(observation)\n",
    "    observation, reward, done, info = env.step(action)\n",
    "    total_reward += reward\n",
    "\n",
    "    if done:\n",
    "        print(total_reward)\n",
    "        observation, info = env.reset(return_info=True)\n",
    "\n",
    "env.close()\n",
    "imageio.mimsave(os.path.join('.', 'movie.gif'), frames, format='GIF', fps=60)"
   ]
  },
  {
   "cell_type": "code",
   "execution_count": 90,
   "id": "265eefc3-2228-4b66-b856-3bee03ad4ee6",
   "metadata": {},
   "outputs": [
    {
     "data": {
      "text/plain": [
       "-102.04155033128777"
      ]
     },
     "execution_count": 90,
     "metadata": {},
     "output_type": "execute_result"
    }
   ],
   "source": [
    "np.mean(es.fitness(pop))"
   ]
  },
  {
   "cell_type": "code",
   "execution_count": null,
   "id": "81be8594-7224-4713-a4eb-a4375aee9855",
   "metadata": {},
   "outputs": [],
   "source": []
  }
 ],
 "metadata": {
  "kernelspec": {
   "display_name": "Python 3 (ipykernel)",
   "language": "python",
   "name": "python3"
  },
  "language_info": {
   "codemirror_mode": {
    "name": "ipython",
    "version": 3
   },
   "file_extension": ".py",
   "mimetype": "text/x-python",
   "name": "python",
   "nbconvert_exporter": "python",
   "pygments_lexer": "ipython3",
   "version": "3.8.10"
  }
 },
 "nbformat": 4,
 "nbformat_minor": 5
}
